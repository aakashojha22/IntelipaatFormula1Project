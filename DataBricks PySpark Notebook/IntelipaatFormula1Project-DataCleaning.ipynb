{
 "cells": [
  {
   "cell_type": "code",
   "execution_count": 0,
   "metadata": {
    "application/vnd.databricks.v1+cell": {
     "cellMetadata": {
      "byteLimit": 2048000,
      "rowLimit": 10000
     },
     "inputWidgets": {},
     "nuid": "95044562-3b7f-4412-ab59-44818dcea248",
     "showTitle": false,
     "tableResultSettingsMap": {},
     "title": ""
    }
   },
   "outputs": [
    {
     "output_type": "stream",
     "name": "stdout",
     "output_type": "stream",
     "text": [
      "2025-02-12 16:47:57.548127\n"
     ]
    }
   ],
   "source": [
    "import datetime\n",
    "from pyspark.sql.functions import col,concat_ws\n",
    "from pyspark.sql.functions import current_timestamp\n",
    "from pyspark.sql.types import StructType, StructField, StringType, IntegerType, DoubleType\n",
    "\n",
    "print(datetime.datetime.now())"
   ]
  },
  {
   "cell_type": "code",
   "execution_count": 0,
   "metadata": {
    "application/vnd.databricks.v1+cell": {
     "cellMetadata": {
      "byteLimit": 2048000,
      "rowLimit": 10000
     },
     "inputWidgets": {},
     "nuid": "72878993-d759-418a-9300-10c3af905119",
     "showTitle": false,
     "tableResultSettingsMap": {},
     "title": ""
    }
   },
   "outputs": [],
   "source": [
    "# Mount storage\n",
    "# dbutils.fs.mount(\n",
    "#     source='wasbs://ipaakashformula1project@dp203storageaccount22.blob.core.windows.net',  # protocol and account name are required\n",
    "#     mount_point='/mnt/ipaakashformula1project',  # mount point basically path\n",
    "#     extra_configs={'fs.azure.account.key.dp203storageaccount22.blob.core.windows.net': \"0pLjWY6gohOdXM9D2/yvvdK2jR5kQAAve+MKmKqKsrn+zQGXNUU7tsUNrU+J/aPVSYKiS3Rdyuvg+AStKb60fg==\"}  # access key of storage account\n",
    "# )"
   ]
  },
  {
   "cell_type": "code",
   "execution_count": 0,
   "metadata": {
    "application/vnd.databricks.v1+cell": {
     "cellMetadata": {
      "byteLimit": 2048000,
      "rowLimit": 10000
     },
     "inputWidgets": {},
     "nuid": "12940f90-9e7b-482e-929a-65bdd4e37e14",
     "showTitle": false,
     "tableResultSettingsMap": {},
     "title": ""
    }
   },
   "outputs": [],
   "source": [
    "# circuits df\n",
    "circuitsdf = spark.read.csv('/mnt/ipaakashformula1project/ingestdata/Datasets/circuits.csv', header=True,inferSchema=True)\n",
    "circuitsdf = circuitsdf.withColumnRenamed('circuitId', 'curcuit_id')\n",
    "circuitsdf = circuitsdf.withColumnRenamed('circuitRef', 'circuit_ref')\n",
    "circuitsdf = circuitsdf.withColumnRenamed('lat', 'latitude')\n",
    "circuitsdf = circuitsdf.withColumnRenamed('long', 'longitude')\n",
    "circuitsdf = circuitsdf.withColumnRenamed('alt', 'altitude')\n",
    "circuitsdf =circuitsdf.drop('Url')\n",
    "circuitsdf = circuitsdf.withColumn('ingestion_data', current_timestamp())\n",
    "circuitsdf.coalesce(1).write.mode('overwrite').format('delta').save('/mnt/ipaakashformula1project/clean_data/circuits')\n",
    "\n"
   ]
  },
  {
   "cell_type": "code",
   "execution_count": 0,
   "metadata": {
    "application/vnd.databricks.v1+cell": {
     "cellMetadata": {
      "byteLimit": 2048000,
      "rowLimit": 10000
     },
     "inputWidgets": {},
     "nuid": "75501d0c-ead2-4f14-8482-a8f70ad5108b",
     "showTitle": false,
     "tableResultSettingsMap": {},
     "title": ""
    }
   },
   "outputs": [],
   "source": [
    "# race df\n",
    "races_df = spark.read.csv('/mnt/ipaakashformula1project/ingestdata/Datasets/races.csv', header=True,inferSchema=True)\n",
    "races_df = races_df.withColumnRenamed('raceId', 'race_id')\n",
    "races_df = races_df.withColumnRenamed('year', 'race_year')\n",
    "races_df = races_df.withColumnRenamed('circuitId', 'circuit_id')\n",
    "\n",
    "races_df =races_df.drop('Url')\n",
    "races_df =races_df.drop('time')\n",
    "races_df =races_df.drop('date')\n",
    "races_df = races_df.withColumn('race_timestamp', current_timestamp())\n",
    "races_df.write.mode('overwrite').partitionBy('race_year').format('delta').save('/mnt/ipaakashformula1project/clean_data/races')\n",
    "\n"
   ]
  },
  {
   "cell_type": "code",
   "execution_count": 0,
   "metadata": {
    "application/vnd.databricks.v1+cell": {
     "cellMetadata": {
      "byteLimit": 2048000,
      "rowLimit": 10000
     },
     "inputWidgets": {},
     "nuid": "49976fb5-f1a3-458c-a387-1742c454d556",
     "showTitle": false,
     "tableResultSettingsMap": {},
     "title": ""
    }
   },
   "outputs": [],
   "source": [
    "# constructors.json\n",
    "constructors_df = spark.read.option(\"inferSchema\", \"true\").json('/mnt/ipaakashformula1project/ingestdata/Datasets/constructors.json')\n",
    "# constructors_df.show()\n",
    "constructors_df = constructors_df.withColumnRenamed('constructorId', 'constructor_id')\n",
    "constructors_df = constructors_df.withColumnRenamed('constructorRef', 'constructor_ref')\n",
    "constructors_df =constructors_df.drop('Url')\n",
    "constructors_df = constructors_df.withColumn('ingestion_data', current_timestamp())\n",
    "constructors_df.coalesce(1).write.mode('overwrite').format('delta').save('/mnt/ipaakashformula1project/clean_data/constructors')\n",
    "\n"
   ]
  },
  {
   "cell_type": "code",
   "execution_count": 0,
   "metadata": {
    "application/vnd.databricks.v1+cell": {
     "cellMetadata": {
      "byteLimit": 2048000,
      "rowLimit": 10000
     },
     "inputWidgets": {},
     "nuid": "499a6119-4992-423d-9036-e566e36e0d1b",
     "showTitle": false,
     "tableResultSettingsMap": {},
     "title": ""
    }
   },
   "outputs": [],
   "source": [
    "# drivers.json\n",
    "drivers_df = spark.read.option(\"inferSchema\", \"true\").json('/mnt/ipaakashformula1project/ingestdata/Datasets/drivers.json')\n",
    "# drivers_df.show()\n",
    "drivers_df = drivers_df.withColumnRenamed('driverId', 'driver_id')\n",
    "drivers_df = drivers_df.withColumnRenamed('driverRef', 'driver_ref')\n",
    "drivers_df = drivers_df.withColumn(\"name\", concat_ws(\" \", col(\"name.forename\"), col(\"name.surname\")))\n",
    "# drivers_df.show()\n",
    "\n",
    "drivers_df =drivers_df.drop('Url')\n",
    "drivers_df =drivers_df.drop('name.forename')\n",
    "drivers_df =drivers_df.drop('name.surname')\n",
    "\n",
    "drivers_df = constructors_df.withColumn('ingestion_data', current_timestamp())\n",
    "\n",
    "drivers_df.coalesce(1).write.mode('overwrite').format('delta').save('/mnt/ipaakashformula1project/clean_data/drivers')\n",
    "\n"
   ]
  },
  {
   "cell_type": "code",
   "execution_count": 0,
   "metadata": {
    "application/vnd.databricks.v1+cell": {
     "cellMetadata": {
      "byteLimit": 2048000,
      "rowLimit": 10000
     },
     "inputWidgets": {},
     "nuid": "5ba345eb-bc1c-4db1-8f93-13ac24e65009",
     "showTitle": false,
     "tableResultSettingsMap": {},
     "title": ""
    }
   },
   "outputs": [],
   "source": [
    "# result.json\n",
    "results_df = spark.read.option(\"inferSchema\", \"true\").json('/mnt/ipaakashformula1project/ingestdata/Datasets/results.json')\n",
    "# drivers_df.show()\n",
    "results_df = results_df.withColumnRenamed('resultId', 'result_id')\n",
    "results_df = results_df.withColumnRenamed('raceId', 'race_id')\n",
    "results_df = results_df.withColumnRenamed('driverId', 'driver_id')\n",
    "results_df = results_df.withColumnRenamed('ConstructorId', 'constructor_id')\n",
    "results_df = results_df.withColumnRenamed('positionText', 'position_text')\n",
    "results_df = results_df.withColumnRenamed('positionOrder', 'position_order')\n",
    "results_df = results_df.withColumnRenamed('fastestLap', 'fastest_lap')\n",
    "results_df = results_df.withColumnRenamed('fastestLapTime', 'fastest_lap_time')\n",
    "results_df = results_df.withColumnRenamed('FastestLapSpeed', 'fastest_lap_speed')\n",
    "\n",
    "\n",
    "# drivers_df.show()\n",
    "\n",
    "results_df =results_df.drop('“statusId”')\n",
    "\n",
    "\n",
    "results_df = results_df.withColumn('ingestion_data', current_timestamp())\n",
    "\n",
    "results_df.write.mode('overwrite').partitionBy('race_id').format('delta').save('/mnt/ipaakashformula1project/clean_data/results')\n",
    "\n"
   ]
  },
  {
   "cell_type": "code",
   "execution_count": 0,
   "metadata": {
    "application/vnd.databricks.v1+cell": {
     "cellMetadata": {
      "byteLimit": 2048000,
      "rowLimit": 10000
     },
     "inputWidgets": {},
     "nuid": "9e9af4c3-b929-4497-8506-88cc199d4b7f",
     "showTitle": false,
     "tableResultSettingsMap": {},
     "title": ""
    }
   },
   "outputs": [],
   "source": [
    "# pit_stops.json\n",
    "\n",
    "# Define schema for pit_stops.json\n",
    "pit_stops_schema = StructType([\n",
    "    StructField(\"raceId\", IntegerType(), True),\n",
    "    StructField(\"driverId\", IntegerType(), True),\n",
    "    StructField(\"stop\", IntegerType(), True),\n",
    "    StructField(\"lap\", IntegerType(), True),\n",
    "    StructField(\"time\", StringType(), True),\n",
    "    StructField(\"duration\", StringType(), True),\n",
    "    StructField(\"milliseconds\", IntegerType(), True)\n",
    "])\n",
    "\n",
    "# Read JSON file with schema\n",
    "pit_stops_df = spark.read.schema(pit_stops_schema).json('/mnt/ipaakashformula1project/ingestdata/Datasets/pit_stops.json')\n",
    "\n",
    "pit_stops_df = pit_stops_df.withColumnRenamed('driverId', 'driver_id')\n",
    "pit_stops_df = pit_stops_df.withColumnRenamed('raceId', 'race_id')\n",
    "\n",
    "pit_stops_df = pit_stops_df.withColumn('ingestion_data', current_timestamp())\n",
    "\n",
    "pit_stops_df.write.mode('overwrite').format('delta').save('/mnt/ipaakashformula1project/clean_data/pit_stops')\n",
    "\n"
   ]
  },
  {
   "cell_type": "code",
   "execution_count": 0,
   "metadata": {
    "application/vnd.databricks.v1+cell": {
     "cellMetadata": {
      "byteLimit": 2048000,
      "rowLimit": 10000
     },
     "inputWidgets": {},
     "nuid": "b87da8c6-2263-405d-9298-14ae5371223e",
     "showTitle": false,
     "tableResultSettingsMap": {},
     "title": ""
    }
   },
   "outputs": [],
   "source": [
    "# laps time df\n",
    "laps_times_df = spark.read.csv('/mnt/ipaakashformula1project/ingestdata/Datasets/lap_times/*.csv', header=True,inferSchema=True)\n",
    "laps_times_df = laps_times_df.withColumnRenamed('raceId', 'race_id')\n",
    "laps_times_df = laps_times_df.withColumnRenamed('driverId', 'driver_id')\n",
    "laps_times_df = laps_times_df.withColumn('ingestion_data', current_timestamp())\n",
    "laps_times_df.coalesce(1).write.mode('overwrite').format('delta').save('/mnt/ipaakashformula1project/clean_data/laps_times')\n",
    "\n"
   ]
  },
  {
   "cell_type": "code",
   "execution_count": 0,
   "metadata": {
    "application/vnd.databricks.v1+cell": {
     "cellMetadata": {
      "byteLimit": 2048000,
      "rowLimit": 10000
     },
     "inputWidgets": {},
     "nuid": "85c29e24-dd97-4b5a-ac68-c42fab55fa6f",
     "showTitle": false,
     "tableResultSettingsMap": {},
     "title": ""
    }
   },
   "outputs": [],
   "source": [
    "# laps time df\n",
    "qualifying_schema = StructType([\n",
    "    StructField(\"qualifyId\", IntegerType(), True),\n",
    "    StructField(\"raceId\", IntegerType(), True),\n",
    "    StructField(\"driverId\", IntegerType(), True),\n",
    "    StructField(\"constructorId\", IntegerType(), True),\n",
    "    StructField(\"number\", IntegerType(), True),\n",
    "    StructField(\"position\", IntegerType(), True),\n",
    "    StructField(\"q1\", DoubleType(), True),\n",
    "        StructField(\"q2\", DoubleType(), True),\n",
    "            StructField(\"q3\", DoubleType(), True)\n",
    "])\n",
    "qualifying_df = spark.read.schema(qualifying_schema).json('/mnt/ipaakashformula1project/ingestdata/Datasets/qualifying/*.json')\n",
    "\n",
    "\n",
    "qualifying_df = qualifying_df.withColumnRenamed('qualifyingId', 'qualifying_id')\n",
    "qualifying_df = qualifying_df.withColumnRenamed('raceId', 'race_id')\n",
    "qualifying_df = qualifying_df.withColumnRenamed('constructorId', 'constructor_id')\n",
    "qualifying_df = qualifying_df.withColumnRenamed('driverId', 'driver_id')\n",
    "qualifying_df = qualifying_df.withColumn('ingestion_data', current_timestamp())\n",
    "qualifying_df.coalesce(1).write.mode('overwrite').format('delta').save('/mnt/ipaakashformula1project/clean_data/qualifying')\n",
    "\n"
   ]
  },
  {
   "cell_type": "code",
   "execution_count": 0,
   "metadata": {
    "application/vnd.databricks.v1+cell": {
     "cellMetadata": {
      "byteLimit": 2048000,
      "rowLimit": 10000
     },
     "inputWidgets": {},
     "nuid": "2e6de049-bb0c-4b62-82a1-91363f7279a4",
     "showTitle": false,
     "tableResultSettingsMap": {},
     "title": ""
    }
   },
   "outputs": [
    {
     "output_type": "stream",
     "name": "stdout",
     "output_type": "stream",
     "text": [
      "2025-02-12 16:55:37.592301\n"
     ]
    }
   ],
   "source": [
    "print(datetime.datetime.now())"
   ]
  }
 ],
 "metadata": {
  "application/vnd.databricks.v1+notebook": {
   "computePreferences": null,
   "dashboards": [],
   "environmentMetadata": {
    "base_environment": "",
    "environment_version": "2"
   },
   "language": "python",
   "notebookMetadata": {
    "pythonIndentUnit": 4
   },
   "notebookName": "IntelipaatFormula1Project-DataCleaning",
   "widgets": {}
  },
  "language_info": {
   "name": "python"
  }
 },
 "nbformat": 4,
 "nbformat_minor": 0
}